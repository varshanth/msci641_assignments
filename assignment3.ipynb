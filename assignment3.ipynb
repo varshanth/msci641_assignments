{
 "cells": [
  {
   "cell_type": "code",
   "execution_count": 1,
   "metadata": {},
   "outputs": [
    {
     "name": "stdout",
     "output_type": "stream",
     "text": [
      "[nltk_data] Downloading package stopwords to\n",
      "[nltk_data]     /home/varsrao/nltk_data...\n",
      "[nltk_data]   Package stopwords is already up-to-date!\n",
      "Retrieving Amazon Reviews Dataset with No Stopwords\n",
      "----- Dataset Synthesis Start -----\n",
      "Loading Positive Reviews from dataset/pos.txt\n",
      "Loading Negative Reviews from dataset/neg.txt\n",
      "Generating data and labels\n",
      "Tokenizing the data\n",
      "Removing stop words\n",
      "Shuffling the data\n",
      "----- Dataset Synthesis Complete -----\n",
      "Retrieving Amazon Reviews Dataset with Stopwords\n",
      "----- Dataset Synthesis Start -----\n",
      "Loading Positive Reviews from dataset/pos.txt\n",
      "Loading Negative Reviews from dataset/neg.txt\n",
      "Generating data and labels\n",
      "Tokenizing the data\n",
      "Shuffling the data\n",
      "----- Dataset Synthesis Complete -----\n"
     ]
    }
   ],
   "source": [
    "from lib.amazon_reviews_loader import AmazonReviewsDS\n",
    "from lib.amazon_reviews_cfg import DS_CFG_NO_SW, DS_CFG_SW\n",
    "import gensim\n",
    "from multiprocessing import cpu_count\n",
    "\n",
    "_POS_REV_FILE = 'dataset/pos.txt'\n",
    "_NEG_REV_FILE = 'dataset/neg.txt'\n",
    "\n",
    "if __name__ ==  '__main__':\n",
    "    print('Retrieving Amazon Reviews Dataset with No Stopwords')\n",
    "    amazon_rev_no_sw = AmazonReviewsDS(_POS_REV_FILE, _NEG_REV_FILE, DS_CFG_NO_SW)\n",
    "    print('Retrieving Amazon Reviews Dataset with Stopwords')\n",
    "    amazon_rev_sw = AmazonReviewsDS(_POS_REV_FILE, _NEG_REV_FILE, DS_CFG_SW)\n",
    "\n",
    "    amazon_rev_no_sw_sents = amazon_rev_no_sw.data\n",
    "    amazon_rev_sw_sents = amazon_rev_sw.data"
   ]
  },
  {
   "cell_type": "code",
   "execution_count": 2,
   "metadata": {},
   "outputs": [
    {
     "name": "stdout",
     "output_type": "stream",
     "text": [
      "Creating Word2Vec Model: Without Stopwords\n",
      "Creating Word2Vec Model: With Stopwords\n"
     ]
    }
   ],
   "source": [
    "    _EMBEDDING_SIZE = 150\n",
    "    _WINDOW_SIZE = 4\n",
    "    _MIN_TOKEN_COUNT = 4\n",
    "\n",
    "    print('Creating Word2Vec Model: Without Stopwords')\n",
    "    no_sw_model = gensim.models.Word2Vec(\n",
    "            amazon_rev_no_sw_sents,\n",
    "            size=_EMBEDDING_SIZE,\n",
    "            window=_WINDOW_SIZE,\n",
    "            min_count=_MIN_TOKEN_COUNT,\n",
    "            workers=cpu_count())\n",
    "    \n",
    "    print('Creating Word2Vec Model: With Stopwords')\n",
    "    sw_model = gensim.models.Word2Vec(\n",
    "            amazon_rev_sw_sents,\n",
    "            size=_EMBEDDING_SIZE,\n",
    "            window=_WINDOW_SIZE,\n",
    "            min_count=_MIN_TOKEN_COUNT,\n",
    "            workers=cpu_count())"
   ]
  },
  {
   "cell_type": "code",
   "execution_count": 3,
   "metadata": {},
   "outputs": [
    {
     "name": "stdout",
     "output_type": "stream",
     "text": [
      "Finding 20 Similar Words To Good & Bad: Without Stopwords\n",
      "Good: [('great', 0.773969829082489), ('decent', 0.7685281038284302), ('fantastic', 0.6710556745529175), ('excellent', 0.6628658771514893), ('amazing', 0.6426146626472473), ('terrific', 0.6412367224693298), ('nice', 0.6279391646385193), ('awesome', 0.6170191764831543), ('wonderful', 0.583147406578064), ('superb', 0.5648380517959595), ('ok', 0.562408447265625), ('bad', 0.550562858581543), ('impressive', 0.5503613948822021), ('okay', 0.5492343902587891), ('reasonable', 0.5296091437339783), ('perfect', 0.5269806385040283), ('exceptional', 0.503654420375824), ('outstanding', 0.5002436637878418), ('fabulous', 0.4893912374973297), ('well', 0.474298357963562)]\n",
      "Bad: [('awful', 0.611964225769043), ('terrible', 0.6007453203201294), ('horrible', 0.5842011570930481), ('good', 0.550562858581543), ('poor', 0.5173922181129456), ('funny', 0.5113478899002075), ('lousy', 0.4984070062637329), ('weird', 0.4943544864654541), ('strange', 0.4808204472064972), ('nasty', 0.4451563060283661), ('stupid', 0.4439426362514496), ('horrid', 0.4421876072883606), ('fake', 0.44160979986190796), ('worse', 0.44148582220077515), ('horrendous', 0.4412138760089874), ('rave', 0.43988358974456787), ('negative', 0.4393915832042694), ('guessing', 0.439380019903183), ('silly', 0.4387799799442291), ('decent', 0.4361860156059265)]\n"
     ]
    }
   ],
   "source": [
    "    print('Finding 20 Similar Words To Good & Bad: Without Stopwords')\n",
    "    print(f'Good: {no_sw_model.wv.most_similar(positive = \"good\", topn = 20)}')\n",
    "    print(f'Bad: {no_sw_model.wv.most_similar(positive = \"bad\", topn = 20)}')"
   ]
  },
  {
   "cell_type": "code",
   "execution_count": 4,
   "metadata": {},
   "outputs": [
    {
     "name": "stdout",
     "output_type": "stream",
     "text": [
      "Finding 20 Similar Words To Good & Bad: With Stopwords\n",
      "Good: [('decent', 0.7879394888877869), ('great', 0.7771520614624023), ('fantastic', 0.7244586944580078), ('nice', 0.6965898275375366), ('terrific', 0.6937927007675171), ('wonderful', 0.6735690832138062), ('impressive', 0.6575987935066223), ('superb', 0.6506286859512329), ('bad', 0.6454977989196777), ('reasonable', 0.6350195407867432), ('fabulous', 0.623285710811615), ('excellent', 0.6213153600692749), ('awesome', 0.6116971969604492), ('amazing', 0.609173059463501), ('poor', 0.6045313477516174), ('clever', 0.5801587104797363), ('terrible', 0.5770386457443237), ('ok', 0.5687574148178101), ('okay', 0.5666078329086304), ('neat', 0.5659569501876831)]\n",
      "Bad: [('horrible', 0.6774163246154785), ('terrible', 0.6629313230514526), ('good', 0.6454977989196777), ('awful', 0.603400468826294), ('strange', 0.5964905619621277), ('funny', 0.5800220370292664), ('sad', 0.5780524015426636), ('poor', 0.5764942169189453), ('lame', 0.572816014289856), ('stupid', 0.5709599256515503), ('scary', 0.5640161633491516), ('obvious', 0.551712155342102), ('disappointing', 0.5514550805091858), ('weak', 0.543871283531189), ('gross', 0.5261499881744385), ('weird', 0.5228626728057861), ('stellar', 0.5220201015472412), ('ridiculous', 0.5215503573417664), ('pathetic', 0.5203161239624023), ('alright', 0.5164196491241455)]\n"
     ]
    }
   ],
   "source": [
    "    print('Finding 20 Similar Words To Good & Bad: With Stopwords')\n",
    "    print(f'Good: {sw_model.wv.most_similar(positive = \"good\", topn = 20)}')\n",
    "    print(f'Bad: {sw_model.wv.most_similar(positive = \"bad\", topn = 20)}')"
   ]
  }
 ],
 "metadata": {
  "kernelspec": {
   "display_name": "Python 3",
   "language": "python",
   "name": "python3"
  },
  "language_info": {
   "codemirror_mode": {
    "name": "ipython",
    "version": 3
   },
   "file_extension": ".py",
   "mimetype": "text/x-python",
   "name": "python",
   "nbconvert_exporter": "python",
   "pygments_lexer": "ipython3",
   "version": "3.7.2"
  }
 },
 "nbformat": 4,
 "nbformat_minor": 2
}
