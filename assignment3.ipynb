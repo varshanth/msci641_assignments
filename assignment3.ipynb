{
 "cells": [
  {
   "cell_type": "code",
   "execution_count": 1,
   "metadata": {},
   "outputs": [
    {
     "name": "stdout",
     "output_type": "stream",
     "text": [
      "[nltk_data] Downloading package stopwords to\n",
      "[nltk_data]     /home/varsrao/nltk_data...\n",
      "[nltk_data]   Package stopwords is already up-to-date!\n",
      "Retrieving Amazon Reviews Dataset with Stopwords\n",
      "----- Dataset Synthesis Start -----\n",
      "Loading Positive Reviews from dataset/pos.txt\n",
      "Loading Negative Reviews from dataset/neg.txt\n",
      "Generating data and labels\n",
      "Tokenizing the data\n",
      "Shuffling the data\n",
      "----- Dataset Synthesis Complete -----\n"
     ]
    }
   ],
   "source": [
    "from lib.amazon_reviews_loader import AmazonReviewsDS\n",
    "from lib.amazon_reviews_cfg import DS_CFG_NO_SW, DS_CFG_SW\n",
    "import gensim\n",
    "from multiprocessing import cpu_count\n",
    "\n",
    "_POS_REV_FILE = 'dataset/pos.txt'\n",
    "_NEG_REV_FILE = 'dataset/neg.txt'\n",
    "\n",
    "if __name__ ==  '__main__':\n",
    "    print('Retrieving Amazon Reviews Dataset with Stopwords')\n",
    "    amazon_rev_sw = AmazonReviewsDS(_POS_REV_FILE, _NEG_REV_FILE, DS_CFG_SW)\n",
    "    amazon_rev_sw_sents = amazon_rev_sw.data"
   ]
  },
  {
   "cell_type": "code",
   "execution_count": null,
   "metadata": {},
   "outputs": [
    {
     "name": "stdout",
     "output_type": "stream",
     "text": [
      "Creating Word2Vec Model: With Stopwords\n"
     ]
    }
   ],
   "source": [
    "    _EMBEDDING_SIZE = 300\n",
    "    _WINDOW_SIZE = 4\n",
    "    _MIN_TOKEN_COUNT = 4\n",
    "   \n",
    "    print('Creating Word2Vec Model: With Stopwords')\n",
    "    sw_model = gensim.models.Word2Vec(\n",
    "            amazon_rev_sw_sents,\n",
    "            size=_EMBEDDING_SIZE,\n",
    "            window=_WINDOW_SIZE,\n",
    "            min_count=_MIN_TOKEN_COUNT,\n",
    "            workers=cpu_count())"
   ]
  },
  {
   "cell_type": "code",
   "execution_count": null,
   "metadata": {},
   "outputs": [],
   "source": [
    "    print('Finding 20 Similar Words To Good & Bad: With Stopwords')\n",
    "    print(f'Good: {sw_model.wv.most_similar(positive = \"good\", topn = 20)}')\n",
    "    print(f'Bad: {sw_model.wv.most_similar(positive = \"bad\", topn = 20)}')"
   ]
  }
 ],
 "metadata": {
  "kernelspec": {
   "display_name": "Python 3",
   "language": "python",
   "name": "python3"
  },
  "language_info": {
   "codemirror_mode": {
    "name": "ipython",
    "version": 3
   },
   "file_extension": ".py",
   "mimetype": "text/x-python",
   "name": "python",
   "nbconvert_exporter": "python",
   "pygments_lexer": "ipython3",
   "version": "3.7.2"
  }
 },
 "nbformat": 4,
 "nbformat_minor": 2
}
