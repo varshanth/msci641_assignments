{
 "cells": [
  {
   "cell_type": "code",
   "execution_count": 1,
   "metadata": {},
   "outputs": [
    {
     "name": "stdout",
     "output_type": "stream",
     "text": [
      "[nltk_data] Downloading package stopwords to\n",
      "[nltk_data]     /home/varsrao/nltk_data...\n",
      "[nltk_data]   Unzipping corpora/stopwords.zip.\n",
      "Retrieving Amazon Reviews Dataset with Stopwords\n",
      "----- Dataset Synthesis Start -----\n",
      "Loading Positive Reviews from dataset/pos.txt\n",
      "Loading Negative Reviews from dataset/neg.txt\n",
      "Generating data and labels\n",
      "Tokenizing the data\n",
      "Shuffling the data\n",
      "----- Dataset Synthesis Complete -----\n"
     ]
    }
   ],
   "source": [
    "from lib.amazon_reviews_loader import AmazonReviewsDS\n",
    "from lib.amazon_reviews_cfg import DS_CFG_NO_SW, DS_CFG_SW\n",
    "import gensim\n",
    "from multiprocessing import cpu_count\n",
    "\n",
    "_POS_REV_FILE = 'dataset/pos.txt'\n",
    "_NEG_REV_FILE = 'dataset/neg.txt'\n",
    "_MODEL_WV_PATH = 'dataset/word2vec_embeddings.kv'\n",
    "\n",
    "if __name__ ==  '__main__':\n",
    "    print('Retrieving Amazon Reviews Dataset with Stopwords')\n",
    "    amazon_rev_sw = AmazonReviewsDS(_POS_REV_FILE, _NEG_REV_FILE, DS_CFG_SW)\n",
    "    amazon_rev_sw_sents = amazon_rev_sw.data"
   ]
  },
  {
   "cell_type": "code",
   "execution_count": 2,
   "metadata": {},
   "outputs": [
    {
     "name": "stdout",
     "output_type": "stream",
     "text": [
      "Creating Word2Vec Model: With Stopwords\n"
     ]
    },
    {
     "name": "stderr",
     "output_type": "stream",
     "text": [
      "/home/varsrao/anaconda3/lib/python3.7/site-packages/smart_open/smart_open_lib.py:398: UserWarning: This function is deprecated, use smart_open.open instead. See the migration notes for details: https://github.com/RaRe-Technologies/smart_open/blob/master/README.rst#migrating-to-the-new-open-function\n",
      "  'See the migration notes for details: %s' % _MIGRATION_NOTES_URL\n"
     ]
    }
   ],
   "source": [
    "    _EMBEDDING_SIZE = 300\n",
    "    _WINDOW_SIZE = 4\n",
    "    _MIN_TOKEN_COUNT = 4\n",
    "   \n",
    "    print('Creating Word2Vec Model: With Stopwords')\n",
    "    sw_model = gensim.models.Word2Vec(\n",
    "            amazon_rev_sw_sents,\n",
    "            size=_EMBEDDING_SIZE,\n",
    "            window=_WINDOW_SIZE,\n",
    "            min_count=_MIN_TOKEN_COUNT,\n",
    "            workers=cpu_count())\n",
    "    sw_model.wv.save(_MODEL_WV_PATH)"
   ]
  },
  {
   "cell_type": "code",
   "execution_count": 3,
   "metadata": {},
   "outputs": [
    {
     "name": "stdout",
     "output_type": "stream",
     "text": [
      "Finding 20 Similar Words To Good & Bad: With Stopwords\n",
      "-----------------------------------------------------\n",
      "Good: [('decent', 0.7684434652328491), ('great', 0.7373508214950562), ('terrific', 0.7015677690505981), ('fantastic', 0.6987839937210083), ('nice', 0.6600608825683594), ('wonderful', 0.6583725214004517), ('superb', 0.6548490524291992), ('fabulous', 0.638202965259552), ('excellent', 0.6118650436401367), ('reasonable', 0.6083284616470337), ('bad', 0.5981848835945129), ('impressive', 0.5981660485267639), ('awesome', 0.586902916431427), ('poor', 0.5721795558929443), ('neat', 0.5720945596694946), ('amazing', 0.5595406293869019), ('terrible', 0.5532640814781189), ('hefty', 0.5461064577102661), ('classy', 0.5422768592834473), ('clever', 0.541985034942627)]\n",
      "-----------------------------------------------------\n",
      "Bad: [('horrible', 0.6540060639381409), ('terrible', 0.6364455819129944), ('good', 0.5981849431991577), ('awful', 0.596996545791626), ('funny', 0.5528815388679504), ('strange', 0.5508366823196411), ('poor', 0.5508250594139099), ('weird', 0.5361281037330627), ('scary', 0.5272409319877625), ('stupid', 0.5202459692955017), ('weak', 0.5141196846961975), ('obvious', 0.5106775760650635), ('nasty', 0.5087451934814453), ('harsh', 0.5048277378082275), ('gross', 0.5027551054954529), ('sad', 0.5019086003303528), ('disappointing', 0.4986197054386139), ('lousy', 0.48775675892829895), ('alright', 0.48038166761398315), ('fake', 0.4728509187698364)]\n"
     ]
    }
   ],
   "source": [
    "    print('Finding 20 Similar Words To Good & Bad: With Stopwords')\n",
    "    print('-----------------------------------------------------')\n",
    "    print(f'Good: {sw_model.wv.most_similar(positive = \"good\", topn = 20)}')\n",
    "    print('-----------------------------------------------------')\n",
    "    print(f'Bad: {sw_model.wv.most_similar(positive = \"bad\", topn = 20)}')"
   ]
  }
 ],
 "metadata": {
  "kernelspec": {
   "display_name": "Python 3",
   "language": "python",
   "name": "python3"
  },
  "language_info": {
   "codemirror_mode": {
    "name": "ipython",
    "version": 3
   },
   "file_extension": ".py",
   "mimetype": "text/x-python",
   "name": "python",
   "nbconvert_exporter": "python",
   "pygments_lexer": "ipython3",
   "version": "3.7.2"
  }
 },
 "nbformat": 4,
 "nbformat_minor": 2
}
